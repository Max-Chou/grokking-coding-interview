{
 "cells": [
  {
   "cell_type": "markdown",
   "metadata": {},
   "source": [
    "# Two Pointers\n",
    "\n",
    "Given an array of numbers and find a pair whose sum is equal to the given target."
   ]
  },
  {
   "cell_type": "markdown",
   "metadata": {},
   "source": [
    "## Problem 01 (Two Sum)\n",
    "\n",
    "Given an array of sorted numbers and a target sum, find a pair in the array whose sum is equal to the given target.\n",
    "\n",
    "### Example 1\n",
    "Input: \\[1, 2, 3, 4, 6\\], target = 6  \n",
    "Output: \\[1, 3\\]\n",
    "\n",
    "### Example 2\n",
    "Input: \\[2, 5, 9, 11\\], target = 11  \n",
    "Output: \\[0, 2\\]\n"
   ]
  },
  {
   "cell_type": "code",
   "execution_count": 2,
   "metadata": {},
   "outputs": [],
   "source": [
    "def solution1(arr, target):\n",
    "    j = len(arr)-1\n",
    "    i = 0\n",
    "    \n",
    "    while i < j:\n",
    "        if arr[i]+arr[j] < target:\n",
    "            i += 1\n",
    "        elif arr[i]+arr[j] > target:\n",
    "            j -= 1\n",
    "        else:\n",
    "            return [i, j]\n",
    "    \n",
    "    return -1\n",
    "    "
   ]
  },
  {
   "cell_type": "code",
   "execution_count": 7,
   "metadata": {},
   "outputs": [],
   "source": [
    "def solution2(arr, target):\n",
    "    nums = dict()\n",
    "    \n",
    "    for i, num in enumerate(arr):\n",
    "        if target - num in nums:\n",
    "            return [nums[target-num], i]\n",
    "        else:\n",
    "            nums[num] = i\n",
    "    return -1\n"
   ]
  },
  {
   "cell_type": "markdown",
   "metadata": {},
   "source": [
    "### Test"
   ]
  },
  {
   "cell_type": "code",
   "execution_count": 8,
   "metadata": {},
   "outputs": [
    {
     "name": "stdout",
     "output_type": "stream",
     "text": [
      "[1, 3]\n",
      "[1, 3]\n"
     ]
    }
   ],
   "source": [
    "print(solution1([1, 2, 3, 4, 6], 6))\n",
    "print(solution2([1, 2, 3, 4, 6], 6))"
   ]
  },
  {
   "cell_type": "markdown",
   "metadata": {},
   "source": [
    "## Problem 02 (Three Sum)\n",
    "\n",
    "Given an array of unsorted numbers, find all unique triplets in it that add up to zero."
   ]
  },
  {
   "cell_type": "code",
   "execution_count": 11,
   "metadata": {},
   "outputs": [],
   "source": [
    "def twoSum(arr, target):\n",
    "    n = len(arr)\n",
    "    i = 0\n",
    "    j = n-1\n",
    "    \n",
    "    results = []\n",
    "    while i < j:\n",
    "        if arr[i] + arr[j] < target:\n",
    "            i += 1\n",
    "        elif arr[i] + arr[j] > target:\n",
    "            j -= 1\n",
    "        else:\n",
    "            temp = [arr[i], arr[j]]\n",
    "            results.append(temp)\n",
    "            # skip duplicates\n",
    "            while i < j and arr[i+1] == arr[i]:\n",
    "                i += 1\n",
    "            \n",
    "            while i < j and arr[j-1] == arr[j]:\n",
    "                j -= 1\n",
    "\n",
    "            i += 1\n",
    "            j -= 1\n",
    "\n",
    "    return results\n",
    "\n",
    "def solution(arr):\n",
    "    n = len(arr)\n",
    "    triplets = []\n",
    "    arr.sort()\n",
    "    \n",
    "    for i in range(n-2):\n",
    "        # skip duplicates\n",
    "        if i > 0 and arr[i] == arr[i-1]:\n",
    "             continue\n",
    "        results = twoSum(arr[i+1:], -arr[i])\n",
    "        for result in results:\n",
    "            temp = [arr[i], result[0], result[1]]\n",
    "            triplets.append(temp)\n",
    "        \n",
    "    return triplets\n",
    "        \n"
   ]
  },
  {
   "cell_type": "markdown",
   "metadata": {},
   "source": [
    "### Test"
   ]
  },
  {
   "cell_type": "code",
   "execution_count": 13,
   "metadata": {},
   "outputs": [
    {
     "name": "stdout",
     "output_type": "stream",
     "text": [
      "[[-3, 1, 2], [-2, 0, 2], [-2, 1, 1], [-1, 0, 1]]\n",
      "[[-5, 2, 3], [-2, -1, 3]]\n"
     ]
    }
   ],
   "source": [
    "print(solution([-3, 0, 1, 2, -1, 1, -2]))\n",
    "print(solution([-5, 2, -1, -2, 3]))"
   ]
  },
  {
   "cell_type": "markdown",
   "metadata": {},
   "source": [
    "## Problem 03\n",
    "Given an array, find the length of the smallest subarray in it which when sorted will sort the whole array.\n",
    "\n",
    "### Example 1\n",
    "Input: \\[ 1, 2, 5, 3, 7, 10, 9, 12\\]  \n",
    "Output: 5\n",
    "\n",
    "### Example 2\n",
    "Input: \\[1, 3, 2, 0, -1, 7, 10\\]  \n",
    "Output: 5\n",
    "\n",
    "### Example 3\n",
    "Input: \\[1, 2, 3\\]  \n",
    "Output: 0\n",
    "\n",
    "### Example 4\n",
    "Input: \\[3, 2, 1\\]  \n",
    "Output: 3"
   ]
  },
  {
   "cell_type": "code",
   "execution_count": 5,
   "metadata": {},
   "outputs": [],
   "source": [
    "import math\n",
    "\n",
    "def solution(arr):\n",
    "    n = len(arr)\n",
    "    \n",
    "    start = n + 1\n",
    "    end = -1\n",
    "    for i in range(n-1):\n",
    "        if arr[i+1] < arr[i]:\n",
    "            start = i\n",
    "            break\n",
    "    \n",
    "    for i in range(n-1,0,-1):\n",
    "        if arr[i] < arr[i-1]:\n",
    "            end = i\n",
    "            break\n",
    "    \n",
    "    if end == -1:\n",
    "        return 0\n",
    "    \n",
    "    # find the max and min in subarr(start:end+1)\n",
    "    max_num = -math.inf\n",
    "    min_num = math.inf\n",
    "    \n",
    "    for i in range(start,end+1):\n",
    "        max_num = max(max_num, arr[i])\n",
    "        min_num = min(min_num, arr[i])\n",
    "    \n",
    "    i = start-1\n",
    "    while i > -1:\n",
    "        if min_num < arr[i]:\n",
    "            start = i\n",
    "        else:\n",
    "            break\n",
    "        i -= 1\n",
    "    \n",
    "    i = end+1\n",
    "    while i < n:\n",
    "        if max_num > arr[i]:\n",
    "            end = i\n",
    "        else:\n",
    "            break\n",
    "        i += 1\n",
    "        \n",
    "    return end - start + 1\n",
    " \n"
   ]
  },
  {
   "cell_type": "markdown",
   "metadata": {},
   "source": [
    "### Test"
   ]
  },
  {
   "cell_type": "code",
   "execution_count": 6,
   "metadata": {},
   "outputs": [
    {
     "name": "stdout",
     "output_type": "stream",
     "text": [
      "5\n",
      "5\n",
      "0\n",
      "3\n"
     ]
    }
   ],
   "source": [
    "print(solution([1, 2, 5, 3, 7, 10, 9, 12]))\n",
    "print(solution([1, 3, 2, 0, -1, 7, 10]))\n",
    "print(solution([1, 2, 3]))\n",
    "print(solution([3, 2, 1]))"
   ]
  },
  {
   "cell_type": "code",
   "execution_count": null,
   "metadata": {},
   "outputs": [],
   "source": []
  }
 ],
 "metadata": {
  "kernelspec": {
   "display_name": "Python 3",
   "language": "python",
   "name": "python3"
  },
  "language_info": {
   "codemirror_mode": {
    "name": "ipython",
    "version": 3
   },
   "file_extension": ".py",
   "mimetype": "text/x-python",
   "name": "python",
   "nbconvert_exporter": "python",
   "pygments_lexer": "ipython3",
   "version": "3.8.10"
  }
 },
 "nbformat": 4,
 "nbformat_minor": 4
}
