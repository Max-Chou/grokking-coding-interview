{
 "cells": [
  {
   "cell_type": "markdown",
   "metadata": {},
   "source": [
    "# Fast & Slow Pointers\n",
    "Using two pointer which move through the array at different speeds. This method is useful when dealing with **cyclic** LinkedList or arrays."
   ]
  },
  {
   "cell_type": "markdown",
   "metadata": {},
   "source": [
    "## Problem 01\n",
    "Given the head of a singly linkedlist and determine if the linkedlist has a cycle in it or not."
   ]
  },
  {
   "cell_type": "code",
   "execution_count": 6,
   "metadata": {},
   "outputs": [],
   "source": [
    "class Node:\n",
    "    def __init__(self, val, nextNode=None):\n",
    "        self.val = val\n",
    "        self.nextNode = nextNode\n",
    "        \n",
    "\n",
    "def solution(head):\n",
    "    \n",
    "    pt1 = head\n",
    "    pt2 = head\n",
    "    \n",
    "    while pt1 and pt2:\n",
    "        pt1 = pt1.nextNode\n",
    "        if pt1 is pt2:\n",
    "            return True\n",
    "        elif pt1:\n",
    "            pt1 = pt1.nextNode\n",
    "        else:\n",
    "            return False\n",
    "\n",
    "        if pt1 is pt2:\n",
    "            return True\n",
    "        \n",
    "        pt2 = pt2.nextNode\n",
    "        \n",
    "        \n",
    "    return False\n"
   ]
  },
  {
   "cell_type": "markdown",
   "metadata": {},
   "source": [
    "### Test Case"
   ]
  },
  {
   "cell_type": "code",
   "execution_count": 7,
   "metadata": {},
   "outputs": [
    {
     "name": "stdout",
     "output_type": "stream",
     "text": [
      "False\n",
      "True\n",
      "True\n"
     ]
    }
   ],
   "source": [
    "head = Node(1)\n",
    "head.nextNode = Node(2)\n",
    "head.nextNode.nextNode = Node(3)\n",
    "head.nextNode.nextNode.nextNode = Node(4)\n",
    "head.nextNode.nextNode.nextNode.nextNode = Node(5)\n",
    "head.nextNode.nextNode.nextNode.nextNode.nextNode = Node(6)\n",
    "print(solution(head))\n",
    "head.nextNode.nextNode.nextNode.nextNode.nextNode.nextNode = head.nextNode.nextNode\n",
    "print(solution(head))\n",
    "head.nextNode.nextNode.nextNode.nextNode.nextNode.nextNode = head.nextNode.nextNode.nextNode\n",
    "print(solution(head))\n",
    "    "
   ]
  },
  {
   "cell_type": "markdown",
   "metadata": {},
   "source": [
    "## Problem 02\n",
    "\n",
    "Find the length of the cycle.\n"
   ]
  },
  {
   "cell_type": "code",
   "execution_count": 16,
   "metadata": {},
   "outputs": [],
   "source": [
    "class Node:\n",
    "    def __init__(self, val, nextNode=None):\n",
    "        self.val = val\n",
    "        self.nextNode = nextNode\n",
    "        \n",
    "\n",
    "def solution(head):\n",
    "    pt1 = head\n",
    "    pt2 = head\n",
    "    \n",
    "    while pt1 and pt2:\n",
    "        pt1 = pt1.nextNode\n",
    "        if pt1 is pt2:\n",
    "            break\n",
    "        pt1 = pt1.nextNode\n",
    "        if pt1 is pt2:\n",
    "            break\n",
    "        \n",
    "        pt2 = pt2.nextNode\n",
    "    \n",
    "    count = 1\n",
    "    pt1 = pt1.nextNode\n",
    "    while pt1 is not pt2:\n",
    "        pt1 = pt1.nextNode\n",
    "        count += 1\n",
    "    \n",
    "    return count\n"
   ]
  },
  {
   "cell_type": "markdown",
   "metadata": {},
   "source": [
    "### Test Case"
   ]
  },
  {
   "cell_type": "code",
   "execution_count": 17,
   "metadata": {},
   "outputs": [
    {
     "name": "stdout",
     "output_type": "stream",
     "text": [
      "4\n",
      "3\n"
     ]
    }
   ],
   "source": [
    "# case 1\n",
    "head = Node(1)\n",
    "head.nextNode = Node(2)\n",
    "head.nextNode.nextNode = Node(3)\n",
    "head.nextNode.nextNode.nextNode = Node(4)\n",
    "head.nextNode.nextNode.nextNode.nextNode = Node(5)\n",
    "head.nextNode.nextNode.nextNode.nextNode.nextNode = Node(6)\n",
    "head.nextNode.nextNode.nextNode.nextNode.nextNode.nextNode = head.nextNode.nextNode\n",
    "print(solution(head))\n",
    "\n",
    "# case 2\n",
    "head.nextNode.nextNode.nextNode.nextNode.nextNode.nextNode = head.nextNode.nextNode.nextNode\n",
    "print(solution(head))"
   ]
  },
  {
   "cell_type": "markdown",
   "metadata": {},
   "source": [
    "## Problem 3\n",
    "\n",
    "Find the starting node of the cycle.\n"
   ]
  },
  {
   "cell_type": "code",
   "execution_count": 33,
   "metadata": {},
   "outputs": [],
   "source": [
    "class Node:\n",
    "    def __init__(self, val, nextNode=None):\n",
    "        self.val = val\n",
    "        self.nextNode = nextNode\n",
    "        \n",
    "def solution(head):\n",
    "    \n",
    "    slow = head\n",
    "    fast = head\n",
    "    \n",
    "    # if the cycle or not\n",
    "    while True:\n",
    "        if fast.nextNode:\n",
    "            fast = fast.nextNode\n",
    "        if fast is slow:\n",
    "            break\n",
    "        if fast.nextNode:\n",
    "            fast = fast.nextNode\n",
    "        \n",
    "        slow = slow.nextNode\n",
    "    \n",
    "    # get the length of cycle\n",
    "    n = 0\n",
    "    while True:\n",
    "        slow = slow.nextNode\n",
    "        n += 1\n",
    "        if slow is fast:\n",
    "            break\n",
    "        \n",
    "    a = 0\n",
    "    fast = head\n",
    "    slow = head\n",
    "    for i in range(n):\n",
    "        fast = fast.nextNode\n",
    "    \n",
    "    while True:\n",
    "        if fast is slow:\n",
    "            break\n",
    "        fast = fast.nextNode\n",
    "        slow = slow.nextNode\n",
    "    \n",
    "    return fast"
   ]
  },
  {
   "cell_type": "markdown",
   "metadata": {},
   "source": [
    "### Test Case"
   ]
  },
  {
   "cell_type": "code",
   "execution_count": 36,
   "metadata": {},
   "outputs": [
    {
     "name": "stdout",
     "output_type": "stream",
     "text": [
      "3\n",
      "4\n",
      "1\n"
     ]
    }
   ],
   "source": [
    "head = Node(1)\n",
    "head.nextNode = Node(2)\n",
    "head.nextNode.nextNode = Node(3)\n",
    "head.nextNode.nextNode.nextNode = Node(4)\n",
    "head.nextNode.nextNode.nextNode.nextNode = Node(5)\n",
    "head.nextNode.nextNode.nextNode.nextNode.nextNode = Node(6)\n",
    "\n",
    "# case 1\n",
    "head.nextNode.nextNode.nextNode.nextNode.nextNode.nextNode = head.nextNode.nextNode\n",
    "print(solution(head).val)\n",
    "\n",
    "# case 2\n",
    "head.nextNode.nextNode.nextNode.nextNode.nextNode.nextNode = head.nextNode.nextNode.nextNode\n",
    "print(solution(head).val)\n",
    "\n",
    "# case 3\n",
    "head.nextNode.nextNode.nextNode.nextNode.nextNode.nextNode = head\n",
    "print(solution(head).val)"
   ]
  },
  {
   "cell_type": "markdown",
   "metadata": {},
   "source": [
    "## Problem 4\n",
    "\n",
    "reverse linked-list\n"
   ]
  },
  {
   "cell_type": "code",
   "execution_count": 55,
   "metadata": {},
   "outputs": [],
   "source": [
    "class Node:\n",
    "    def __init__(self, val, nextNode=None):\n",
    "        self.val = val\n",
    "        self.nextNode = nextNode\n",
    "    \n",
    "    def display(self):\n",
    "        current = self\n",
    "        while current:\n",
    "            print(\"{} => \".format(current.val), end='')\n",
    "            current = current.nextNode\n",
    "        print(\"{}\".format(\"NULL\"))\n",
    "        \n",
    "def solution(head):\n",
    "    \n",
    "    p = None\n",
    "    c = head\n",
    "    n = head.nextNode\n",
    "    \n",
    "    while True:\n",
    "        c.nextNode = p\n",
    "        p = c\n",
    "        c = n\n",
    "        if not n:\n",
    "            break\n",
    "        n = n.nextNode\n",
    "        \n",
    "    head = p\n",
    "    \n",
    "    return head\n"
   ]
  },
  {
   "cell_type": "markdown",
   "metadata": {},
   "source": [
    "### Test Case"
   ]
  },
  {
   "cell_type": "code",
   "execution_count": 63,
   "metadata": {},
   "outputs": [
    {
     "name": "stdout",
     "output_type": "stream",
     "text": [
      "1 => 2 => 3 => 4 => 5 => 6 => NULL\n",
      "6 => 5 => 4 => 3 => 2 => 1 => NULL\n",
      "1 => 2 => 3 => 4 => NULL\n",
      "6 => 5 => 4 => NULL\n"
     ]
    }
   ],
   "source": [
    "head = Node(1)\n",
    "head.nextNode = Node(2)\n",
    "head.nextNode.nextNode = Node(3)\n",
    "head.nextNode.nextNode.nextNode = Node(4)\n",
    "head.nextNode.nextNode.nextNode.nextNode = Node(5)\n",
    "head.nextNode.nextNode.nextNode.nextNode.nextNode = Node(6)\n",
    "head.display()\n",
    "new_head = solution(head)\n",
    "new_head.display()\n",
    "\n",
    "another_head = solution(new_head.nextNode.nextNode)\n",
    "another_head.display()\n",
    "new_head.display()\n"
   ]
  },
  {
   "cell_type": "markdown",
   "metadata": {},
   "source": [
    "## Problem 5"
   ]
  },
  {
   "cell_type": "code",
   "execution_count": 81,
   "metadata": {},
   "outputs": [],
   "source": [
    "class Node:\n",
    "    def __init__(self, val, nextNode=None):\n",
    "        self.val = val\n",
    "        self.nextNode = nextNode\n",
    "    \n",
    "    def display(self):\n",
    "        current = self\n",
    "        while current:\n",
    "            print(\"{} => \".format(current.val), end='')\n",
    "            current = current.nextNode\n",
    "        print(\"{}\".format(\"NULL\"))\n",
    "\n",
    "\n",
    "def reverse(head):\n",
    "    p = None\n",
    "    c = head\n",
    "    n = head.nextNode\n",
    "    \n",
    "    while True:\n",
    "        c.nextNode = p\n",
    "        p = c\n",
    "        c = n\n",
    "        if not n:\n",
    "            break\n",
    "        n = n.nextNode\n",
    "        \n",
    "    head = p\n",
    "    \n",
    "    return head\n",
    "\n",
    "def solution(head):\n",
    "    fast = head\n",
    "    slow = head\n",
    "    \n",
    "    while True:\n",
    "        if fast:\n",
    "            fast = fast.nextNode\n",
    "        else:\n",
    "            break\n",
    "        \n",
    "        if fast:\n",
    "            fast = fast.nextNode\n",
    "        else:\n",
    "            break\n",
    "        \n",
    "        slow = slow.nextNode\n",
    "    \n",
    "    c2 = reverse(slow)\n",
    "    n2 = c2.nextNode\n",
    "    c1 = head\n",
    "    n1 = c1.nextNode\n",
    "    \n",
    "    while True:\n",
    "        c1.nextNode = c2\n",
    "        \n",
    "        if c2 is n1:\n",
    "            c2.nextNode = None\n",
    "            break\n",
    "        else:\n",
    "            c2.nextNode = n1\n",
    "        \n",
    "        \n",
    "        c1 = n1\n",
    "        c2 = n2\n",
    "        \n",
    "        if c1 is c2:\n",
    "            c1.nextNode = None\n",
    "            break\n",
    "\n",
    "        \n",
    "        n1 = n1.nextNode\n",
    "        n2 = n2.nextNode\n",
    "    \n",
    "    return head\n",
    "    \n",
    "    "
   ]
  },
  {
   "cell_type": "code",
   "execution_count": 84,
   "metadata": {},
   "outputs": [
    {
     "name": "stdout",
     "output_type": "stream",
     "text": [
      "1 => 5 => 2 => 4 => 3 => NULL\n"
     ]
    }
   ],
   "source": [
    "head = Node(1)\n",
    "head.nextNode = Node(2)\n",
    "head.nextNode.nextNode = Node(3)\n",
    "head.nextNode.nextNode.nextNode = Node(4)\n",
    "head.nextNode.nextNode.nextNode.nextNode = Node(5)\n",
    "#head.nextNode.nextNode.nextNode.nextNode.nextNode = Node(6)\n",
    "\n",
    "solution(head)\n",
    "head.display()"
   ]
  }
 ],
 "metadata": {
  "kernelspec": {
   "display_name": "Python 3",
   "language": "python",
   "name": "python3"
  },
  "language_info": {
   "codemirror_mode": {
    "name": "ipython",
    "version": 3
   },
   "file_extension": ".py",
   "mimetype": "text/x-python",
   "name": "python",
   "nbconvert_exporter": "python",
   "pygments_lexer": "ipython3",
   "version": "3.8.10"
  }
 },
 "nbformat": 4,
 "nbformat_minor": 4
}
